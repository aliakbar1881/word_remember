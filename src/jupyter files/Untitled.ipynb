{
 "cells": [
  {
   "cell_type": "code",
   "execution_count": 2,
   "id": "e1ce5c2b-1063-4506-9f28-7dc539732ca6",
   "metadata": {},
   "outputs": [],
   "source": [
    "import sys\n",
    "from PyQt5.QtWidgets import QApplication, QLabel, QWidget"
   ]
  },
  {
   "cell_type": "code",
   "execution_count": 3,
   "id": "d19df770-332e-44ef-9c03-4fc1e962e0a0",
   "metadata": {},
   "outputs": [],
   "source": [
    "app = QApplication([])"
   ]
  },
  {
   "cell_type": "code",
   "execution_count": 4,
   "id": "3aa5913d-2018-4ae4-b43d-1fe6b51d223b",
   "metadata": {},
   "outputs": [],
   "source": [
    "window = QWidget()\n",
    "window.setWindowTitle(\"Pyqt app\")\n",
    "window.setGeometry(100, 100, 280, 80)\n",
    "helloMsg = QLabel(\"<h1>Hello, WOrld!</h1>\", parent=window)\n",
    "helloMsg.move(60, 15)"
   ]
  },
  {
   "cell_type": "code",
   "execution_count": 5,
   "id": "acdcb0df-d6e8-485d-be9e-9eece79464c4",
   "metadata": {},
   "outputs": [
    {
     "ename": "SystemExit",
     "evalue": "0",
     "output_type": "error",
     "traceback": [
      "An exception has occurred, use %tb to see the full traceback.\n",
      "\u001b[0;31mSystemExit\u001b[0m\u001b[0;31m:\u001b[0m 0\n"
     ]
    },
    {
     "name": "stderr",
     "output_type": "stream",
     "text": [
      "/home/aliakbar/anaconda3/envs/word_remember/lib/python3.8/site-packages/IPython/core/interactiveshell.py:3406: UserWarning: To exit: use 'exit', 'quit', or Ctrl-D.\n",
      "  warn(\"To exit: use 'exit', 'quit', or Ctrl-D.\", stacklevel=1)\n"
     ]
    }
   ],
   "source": [
    "window.show()\n",
    "\n",
    "# Run your application's event loop and free memory when closed by sys.exit()\n",
    "sys.exit(app.exec())"
   ]
  },
  {
   "cell_type": "markdown",
   "id": "1c03ac43-ad2d-44f9-9d65-3414d4d5001b",
   "metadata": {},
   "source": [
    "## Widgets:\n",
    "    - QPushButton -> button\n",
    "    - QLineEdit -> input box\n",
    "    - QComoBox -> comobox\n",
    "    - QRadioButton -> radio button"
   ]
  },
  {
   "cell_type": "markdown",
   "id": "8658fa51-93e1-47f3-9b8e-30b13e6ffb08",
   "metadata": {},
   "source": [
    "## Layout\n",
    "    - QHBoxLayout\n",
    "    - QVBoxLayout\n",
    "    - QGridLayout\n",
    "    - QFormLayout"
   ]
  },
  {
   "cell_type": "code",
   "execution_count": 1,
   "id": "6458279d-774b-484b-9d38-ad492ec8d278",
   "metadata": {},
   "outputs": [
    {
     "ename": "SystemExit",
     "evalue": "0",
     "output_type": "error",
     "traceback": [
      "An exception has occurred, use %tb to see the full traceback.\n",
      "\u001b[0;31mSystemExit\u001b[0m\u001b[0;31m:\u001b[0m 0\n"
     ]
    },
    {
     "name": "stderr",
     "output_type": "stream",
     "text": [
      "/home/aliakbar/anaconda3/envs/word_remember/lib/python3.8/site-packages/IPython/core/interactiveshell.py:3406: UserWarning: To exit: use 'exit', 'quit', or Ctrl-D.\n",
      "  warn(\"To exit: use 'exit', 'quit', or Ctrl-D.\", stacklevel=1)\n"
     ]
    }
   ],
   "source": [
    "import sys\n",
    "from PyQt5.QtWidgets import (\n",
    "    QApplication,\n",
    "    QHBoxLayout,\n",
    "    QPushButton,\n",
    "    QWidget\n",
    ")\n",
    "\n",
    "app = QApplication([])\n",
    "window = QWidget()\n",
    "window.setWindowTitle(\"QHBoxLayout\")\n",
    "\n",
    "layout = QHBoxLayout()\n",
    "layout.addWidget(QPushButton('Left'))\n",
    "layout.addWidget(QPushButton(\"Center\"))\n",
    "layout.addWidget(QPushButton(\"Right\"))\n",
    "window.setLayout(layout)\n",
    "\n",
    "window.show()\n",
    "sys.exit(app.exec())"
   ]
  },
  {
   "cell_type": "code",
   "execution_count": 1,
   "id": "7f6b648a-fa56-49e1-bbf3-32f2900d444f",
   "metadata": {},
   "outputs": [
    {
     "ename": "SystemExit",
     "evalue": "0",
     "output_type": "error",
     "traceback": [
      "An exception has occurred, use %tb to see the full traceback.\n",
      "\u001b[0;31mSystemExit\u001b[0m\u001b[0;31m:\u001b[0m 0\n"
     ]
    },
    {
     "name": "stderr",
     "output_type": "stream",
     "text": [
      "/home/aliakbar/anaconda3/envs/word_remember/lib/python3.8/site-packages/IPython/core/interactiveshell.py:3406: UserWarning: To exit: use 'exit', 'quit', or Ctrl-D.\n",
      "  warn(\"To exit: use 'exit', 'quit', or Ctrl-D.\", stacklevel=1)\n"
     ]
    }
   ],
   "source": [
    "import sys\n",
    "from PyQt5.QtWidgets import (\n",
    "    QApplication,\n",
    "    QPushButton,\n",
    "    QVBoxLayout,\n",
    "    QWidget,\n",
    ")\n",
    "\n",
    "app = QApplication([])\n",
    "window = QWidget()\n",
    "window.setWindowTitle(\"QVBoxLayout\")\n",
    "layout = QVBoxLayout()\n",
    "layout.addWidget(QPushButton(\"Top\"))\n",
    "layout.addWidget(QPushButton(\"Center\"))\n",
    "layout.addWidget(QPushButton(\"Bottom\"))\n",
    "window.setLayout(layout)\n",
    "\n",
    "window.show()\n",
    "sys.exit(app.exec())"
   ]
  },
  {
   "cell_type": "code",
   "execution_count": null,
   "id": "8e9b2344-bc3e-4a03-aa3e-04cb4e04c5ba",
   "metadata": {},
   "outputs": [],
   "source": [
    "import sys\n",
    "from PyQt5.QtWidgets import (\n",
    "    QApplication,\n",
    "    QGridLayout,\n",
    "    QPushButton,\n",
    "    QWidget\n",
    ")\n",
    "\n",
    "app = QApplication([])\n",
    "window = QWidget()\n",
    "window.setWindowTitle(\"QGridLayout\")\n",
    "\n",
    "layout = QGridLayout()\n",
    "layout.addWidget(QPushButton(\"Button (0, 0)\"), 0, 0)\n",
    "layout.addWidget(QPushButton(\"Button (0, 1)\"), 0, 1)\n",
    "layout.addWidget(QPushButton(\"Button (1, 0)\"), 1, 0)\n",
    "layout.addWidget(QPushButton(\"Button (1, 1)\"), 1, 1)\n",
    "layout.addWidget(QPushButton(\"Button (1, 2)\"), 1, 2)\n",
    "layout.addWidget(QPushButton(\"Button (2, 0)\"), 2, 0)\n",
    "layout.addWidget(\n",
    "    QPushButton(\"Button (2, 1) + 2 Columns Span\"), 2, 1, 1, 2\n",
    ")\n",
    "\n",
    "window.setLayout(layout)\n",
    "\n",
    "window.show()\n",
    "\n",
    "sys.exit(app.exec())"
   ]
  },
  {
   "cell_type": "code",
   "execution_count": null,
   "id": "570efc3f-cad6-4105-8b72-a41ed274b689",
   "metadata": {},
   "outputs": [],
   "source": [
    "import sys\n",
    "\n",
    "from PyQt5.QtWidgets import (\n",
    "    QApplication,\n",
    "    QFormLayout,\n",
    "    QLineEdit,\n",
    "    QWidget,\n",
    ")\n",
    "\n",
    "app = QApplication([])\n",
    "window = QWidget()\n",
    "window.setWindowTitle(\"QFormLayout\")\n",
    "\n",
    "layout = QFormLayout()\n",
    "layout.addRow(\"Name:\", QLineEdit())\n",
    "layout.addRow(\"Age:\", QLineEdit())\n",
    "layout.addRow(\"Job:\", QLineEdit())\n",
    "layout.addRow(\"Hobbies:\", QLineEdit())\n",
    "window.setLayout(layout)\n",
    "\n",
    "window.show()\n",
    "sys.exit(app.exec())"
   ]
  },
  {
   "cell_type": "code",
   "execution_count": 1,
   "id": "c05d1224-0da2-4ab5-b73a-83abaec37d49",
   "metadata": {},
   "outputs": [
    {
     "ename": "SystemExit",
     "evalue": "0",
     "output_type": "error",
     "traceback": [
      "An exception has occurred, use %tb to see the full traceback.\n",
      "\u001b[0;31mSystemExit\u001b[0m\u001b[0;31m:\u001b[0m 0\n"
     ]
    },
    {
     "name": "stderr",
     "output_type": "stream",
     "text": [
      "/home/aliakbar/anaconda3/envs/word_remember/lib/python3.8/site-packages/IPython/core/interactiveshell.py:3406: UserWarning: To exit: use 'exit', 'quit', or Ctrl-D.\n",
      "  warn(\"To exit: use 'exit', 'quit', or Ctrl-D.\", stacklevel=1)\n"
     ]
    }
   ],
   "source": [
    "\"\"\"\n",
    "    Dialog-style application\n",
    "\"\"\"\n",
    "\n",
    "import sys\n",
    "from PyQt5.QtWidgets import (\n",
    "    QApplication,\n",
    "    QDialog,\n",
    "    QDialogButtonBox,\n",
    "    QFormLayout,\n",
    "    QLineEdit,\n",
    "    QVBoxLayout,\n",
    ")\n",
    "\n",
    "class Window(QDialog):\n",
    "    def __init__(self):\n",
    "        super().__init__(parent=None)\n",
    "        self.setWindowTitle(\"QDialog\")\n",
    "        dialogLayout = QVBoxLayout()\n",
    "        formLayout = QFormLayout()\n",
    "        formLayout.addRow(\"Name :\", QLineEdit())\n",
    "        formLayout.addRow(\"Age :\", QLineEdit())\n",
    "        formLayout.addRow(\"Job :\", QLineEdit())\n",
    "        formLayout.addRow(\"Hobbies :\", QLineEdit())\n",
    "        dialogLayout.addLayout(formLayout)\n",
    "        buttons = QDialogButtonBox()\n",
    "        buttons.setStandardButtons(\n",
    "            QDialogButtonBox.StandardButton.Ok | QDialogButtonBox.StandardButton.Cancel\n",
    "        )\n",
    "        dialogLayout.addWidget(buttons)\n",
    "        self.setLayout(dialogLayout)\n",
    "        \n",
    "if __name__ == \"__main__\":\n",
    "    app = QApplication([])\n",
    "    window = Window()\n",
    "    window.show()\n",
    "    sys.exit(app.exec())"
   ]
  },
  {
   "cell_type": "code",
   "execution_count": 1,
   "id": "63e1454d-96de-4e03-a3ed-d26fda184504",
   "metadata": {},
   "outputs": [
    {
     "ename": "SystemExit",
     "evalue": "0",
     "output_type": "error",
     "traceback": [
      "An exception has occurred, use %tb to see the full traceback.\n",
      "\u001b[0;31mSystemExit\u001b[0m\u001b[0;31m:\u001b[0m 0\n"
     ]
    },
    {
     "name": "stderr",
     "output_type": "stream",
     "text": [
      "/home/aliakbar/anaconda3/envs/word_remember/lib/python3.8/site-packages/IPython/core/interactiveshell.py:3406: UserWarning: To exit: use 'exit', 'quit', or Ctrl-D.\n",
      "  warn(\"To exit: use 'exit', 'quit', or Ctrl-D.\", stacklevel=1)\n"
     ]
    }
   ],
   "source": [
    "\"\"\"\n",
    "    Main window-style application\n",
    "\"\"\"\n",
    "\n",
    "import sys\n",
    "from PyQt5.QtWidgets import (\n",
    "    QApplication,\n",
    "    QLabel,\n",
    "    QMainWindow,\n",
    "    QStatusBar,\n",
    "    QToolBar,\n",
    ")\n",
    "\n",
    "class Window(QMainWindow):\n",
    "    def __init__(self):\n",
    "        super().__init__(parent=None)\n",
    "        self.setWindowTitle(\"QMainEindow\")\n",
    "        self.setCentralWidget(QLabel(\"I'm the Central widget\"))\n",
    "        self._createMenu()\n",
    "        self._createToolBar()\n",
    "        self._createStatusBar()\n",
    "        \n",
    "    def _createMenu(self):\n",
    "        menu = self.menuBar().addMenu(\"&Menu\")\n",
    "        menu.addAction(\"&Exit\", self.close)\n",
    "    \n",
    "    def _createToolBar(self):\n",
    "        tools = QToolBar()\n",
    "        tools.addAction(\"&Exit\", self.close)\n",
    "        self.addToolBar(tools)\n",
    "        \n",
    "    def _createStatusBar(self):\n",
    "        status = QStatusBar()\n",
    "        status.showMessage(\"I'm the status bar\")\n",
    "        self.setStatusBar(status)\n",
    "        \n",
    "if __name__ == \"__main__\":\n",
    "    app = QApplication([])\n",
    "    window = Window()\n",
    "    window.show()\n",
    "    sys.exit(app.exec())    "
   ]
  },
  {
   "cell_type": "code",
   "execution_count": 1,
   "id": "072ef0c4-6fe3-4405-be37-7f77bb2ef548",
   "metadata": {},
   "outputs": [
    {
     "ename": "SystemExit",
     "evalue": "0",
     "output_type": "error",
     "traceback": [
      "An exception has occurred, use %tb to see the full traceback.\n",
      "\u001b[0;31mSystemExit\u001b[0m\u001b[0;31m:\u001b[0m 0\n"
     ]
    },
    {
     "name": "stderr",
     "output_type": "stream",
     "text": [
      "/home/aliakbar/anaconda3/envs/word_remember/lib/python3.8/site-packages/IPython/core/interactiveshell.py:3406: UserWarning: To exit: use 'exit', 'quit', or Ctrl-D.\n",
      "  warn(\"To exit: use 'exit', 'quit', or Ctrl-D.\", stacklevel=1)\n"
     ]
    }
   ],
   "source": [
    "\"\"\"\n",
    "    signals and slots example\n",
    "\"\"\"\n",
    "import sys\n",
    "from functools import partial\n",
    "\n",
    "from PyQt5.QtWidgets import (\n",
    "    QApplication,\n",
    "    QLabel,\n",
    "    QPushButton,\n",
    "    QVBoxLayout,\n",
    "    QWidget\n",
    ")\n",
    "\n",
    "def greet(name):\n",
    "    if msgLabel.text():\n",
    "        msgLabel.setText(\"\")\n",
    "    else:\n",
    "        msgLabel.setText(f\"Hello, {name}!\")\n",
    "        \n",
    "app = QApplication([])\n",
    "window = QWidget()\n",
    "window.setWindowTitle(\"Signals and Slots\")\n",
    "layout = QVBoxLayout()\n",
    "\n",
    "button = QPushButton(\"Greet\")\n",
    "button.clicked.connect(partial(greet, \"Aliakbar\"))\n",
    "\n",
    "layout.addWidget(button)\n",
    "msgLabel = QLabel(\"\")\n",
    "layout.addWidget(msgLabel)\n",
    "window.setLayout(layout)\n",
    "\n",
    "\n",
    "window.show()\n",
    "sys.exit(app.exec())"
   ]
  },
  {
   "cell_type": "code",
   "execution_count": null,
   "id": "5bbbbe5d-b6a7-4bd8-ad09-c606a913eb15",
   "metadata": {},
   "outputs": [],
   "source": []
  },
  {
   "cell_type": "code",
   "execution_count": null,
   "id": "8c9392d2-f238-4e1d-b42f-7289e915659b",
   "metadata": {},
   "outputs": [],
   "source": []
  }
 ],
 "metadata": {
  "kernelspec": {
   "display_name": "Python 3 (ipykernel)",
   "language": "python",
   "name": "python3"
  },
  "language_info": {
   "codemirror_mode": {
    "name": "ipython",
    "version": 3
   },
   "file_extension": ".py",
   "mimetype": "text/x-python",
   "name": "python",
   "nbconvert_exporter": "python",
   "pygments_lexer": "ipython3",
   "version": "3.8.13"
  }
 },
 "nbformat": 4,
 "nbformat_minor": 5
}
