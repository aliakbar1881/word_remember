{
 "cells": [
  {
   "cell_type": "code",
   "execution_count": 1,
   "id": "76a5bc27-bd3d-4db2-8573-953c24642c12",
   "metadata": {},
   "outputs": [],
   "source": [
    "import sys\n",
    "from PyQt5.QtWidgets import QApplication, QWidget, QMainWindow"
   ]
  },
  {
   "cell_type": "markdown",
   "id": "49c249f7-88f1-4447-88e4-ae4afde9109f",
   "metadata": {},
   "source": [
    "## using QWiddget"
   ]
  },
  {
   "cell_type": "code",
   "execution_count": 2,
   "id": "9c36dd68-a1fe-438b-9515-76d924d5b439",
   "metadata": {},
   "outputs": [
    {
     "data": {
      "text/plain": [
       "0"
      ]
     },
     "execution_count": 2,
     "metadata": {},
     "output_type": "execute_result"
    }
   ],
   "source": [
    "app = QApplication(sys.argv)\n",
    "\n",
    "window = QWidget()\n",
    "window.show()\n",
    "\n",
    "app.exec_()"
   ]
  },
  {
   "cell_type": "markdown",
   "id": "6149ea21-ccba-4c1a-a300-45dd7547c008",
   "metadata": {},
   "source": [
    "## using QMainWindow"
   ]
  },
  {
   "cell_type": "code",
   "execution_count": 2,
   "id": "34086efd-cd9d-4885-99a2-ec389f077b3b",
   "metadata": {},
   "outputs": [
    {
     "data": {
      "text/plain": [
       "0"
      ]
     },
     "execution_count": 2,
     "metadata": {},
     "output_type": "execute_result"
    }
   ],
   "source": [
    "app = QApplication(sys.argv)\n",
    "\n",
    "window = QMainWindow()\n",
    "window.show()\n",
    "\n",
    "app.exec_()"
   ]
  },
  {
   "cell_type": "code",
   "execution_count": 1,
   "id": "c07976af-0025-4108-81a2-2e270696fff9",
   "metadata": {},
   "outputs": [
    {
     "data": {
      "text/plain": [
       "0"
      ]
     },
     "execution_count": 1,
     "metadata": {},
     "output_type": "execute_result"
    }
   ],
   "source": [
    "import sys\n",
    "from PyQt5.QtWidgets import QApplication, QMainWindow, QPushButton\n",
    "from PyQt5.QtCore import QSize, Qt\n",
    "\n",
    "class MainWindow(QMainWindow):\n",
    "    def __init__(self):\n",
    "        super().__init__()\n",
    "        self.setWindowTitle(\"PyQt\")\n",
    "        size = QSize(200, 100)\n",
    "        self.setFixedSize(size)# you can call .setFixedSize().setMinimumSize().setMaximumSize()\n",
    "        button = QPushButton(\"Click Me!\")\n",
    "        self.setCentralWidget(button)\n",
    "        \n",
    "app = QApplication(sys.argv)\n",
    "window = MainWindow()\n",
    "window.show()\n",
    "app.exec_()"
   ]
  },
  {
   "cell_type": "markdown",
   "id": "256fd367-850f-4ed9-8080-0c67760a4ab0",
   "metadata": {},
   "source": [
    "## signals and slots"
   ]
  },
  {
   "cell_type": "code",
   "execution_count": 1,
   "id": "818d74fd-6346-4cde-aec3-686f6e26cc5b",
   "metadata": {},
   "outputs": [
    {
     "name": "stdout",
     "output_type": "stream",
     "text": [
      "clicked\n",
      "Checked? True\n",
      "clicked\n",
      "Checked? False\n",
      "clicked\n",
      "Checked? True\n",
      "clicked\n",
      "Checked? False\n",
      "clicked\n",
      "Checked? True\n"
     ]
    },
    {
     "data": {
      "text/plain": [
       "0"
      ]
     },
     "execution_count": 1,
     "metadata": {},
     "output_type": "execute_result"
    }
   ],
   "source": [
    "import sys\n",
    "from PyQt5.QtWidgets import QApplication, QMainWindow, QPushButton\n",
    "from PyQt5.QtCore import QSize, Qt\n",
    "\n",
    "class MainWindow(QMainWindow):\n",
    "    def __init__(self):\n",
    "        super().__init__()\n",
    "        self.setWindowTitle(\"PyQt\")\n",
    "        size = QSize(200, 100)\n",
    "        self.setFixedSize(size)\n",
    "        button = QPushButton(\"Click Me!\")\n",
    "        button.setCheckable(True)# new line\n",
    "        button.clicked.connect(self.button_was_clicked)# new line           |\n",
    "        button.clicked.connect(self.button_was_toggled)# new line           |these lines execute simultanously\n",
    "        self.setCentralWidget(button)\n",
    "        \n",
    "    def button_was_clicked(self): #new\n",
    "        \"\"\"\n",
    "        print \"clicked\" when button clicked\n",
    "        \"\"\"\n",
    "        print(\"clicked\")\n",
    "        \n",
    "    def button_was_toggled(self, checked): # new\n",
    "        \"\"\"\n",
    "        this function will call when button is toggled and print state\n",
    "        \"\"\"\n",
    "        print(\"Checked?\", checked)\n",
    "        \n",
    "app = QApplication(sys.argv)\n",
    "window = MainWindow()\n",
    "window.show()\n",
    "app.exec_()"
   ]
  },
  {
   "cell_type": "markdown",
   "id": "42df9815-f5b8-46f2-a917-69392b1bb842",
   "metadata": {},
   "source": [
    "> we can store state of a slot in variable for using them easily"
   ]
  },
  {
   "cell_type": "code",
   "execution_count": 2,
   "id": "813aa17f-55a5-41ef-9ac6-9cbb27d757cb",
   "metadata": {},
   "outputs": [
    {
     "name": "stdout",
     "output_type": "stream",
     "text": [
      "False\n",
      "True\n",
      "False\n",
      "True\n",
      "False\n"
     ]
    },
    {
     "data": {
      "text/plain": [
       "0"
      ]
     },
     "execution_count": 2,
     "metadata": {},
     "output_type": "execute_result"
    }
   ],
   "source": [
    "import sys\n",
    "from PyQt5.QtWidgets import QApplication, QMainWindow, QPushButton\n",
    "from PyQt5.QtCore import QSize, Qt\n",
    "\n",
    "class MainWindow(QMainWindow):\n",
    "    def __init__(self):\n",
    "        super().__init__()\n",
    "        \n",
    "        self.button_is_checked = True # new line\n",
    "        \n",
    "        self.setWindowTitle(\"PyQt\")\n",
    "        size = QSize(200, 100)\n",
    "        self.setFixedSize(size)\n",
    "        button = QPushButton(\"Click Me!\")\n",
    "        button.setCheckable(True)# new line\n",
    "        button.clicked.connect(self.button_was_toggled)\n",
    "        \n",
    "        button.setChecked(self.button_is_checked) # new line\n",
    "        \n",
    "        self.setCentralWidget(button)\n",
    "\n",
    "    def button_was_toggled(self, checked):# modeify\n",
    "        \"\"\"\n",
    "        This function update the self.button_is_checked\n",
    "        \"\"\"\n",
    "        \n",
    "        self.button_is_checked = checked\n",
    "        \n",
    "        print(self.button_is_checked)\n",
    "        \n",
    "app = QApplication(sys.argv)\n",
    "window = MainWindow()\n",
    "window.show()\n",
    "app.exec_()"
   ]
  },
  {
   "cell_type": "markdown",
   "id": "2c40ba10-661e-4302-ac70-5c0b8ce8df93",
   "metadata": {},
   "source": [
    "If a widget does not\n",
    "provide a signal that sends the current state, you will need to retrieve the value\n",
    "from the widget directly in your handler. For example, here we’re checking the\n",
    "checked state in a pressed handler."
   ]
  },
  {
   "cell_type": "code",
   "execution_count": null,
   "id": "bc6b931f-d522-40f8-800b-7650b40fb227",
   "metadata": {},
   "outputs": [],
   "source": [
    "import sys\n",
    "from PyQt5.QtWidgets import QApplication, QMainWindow, QPushButton\n",
    "from PyQt5.QtCore import QSize, Qt\n",
    "\n",
    "class MainWindow(QMainWindow):\n",
    "    def __init__(self):\n",
    "        super().__init__()\n",
    "        self.button_is_checked = True        \n",
    "        self.setWindowTitle(\"PyQt\")\n",
    "        size = QSize(200, 100)\n",
    "        self.setFixedSize(size)\n",
    "        self.button = QPushButton(\"Click Me!\")\n",
    "        self.button.setCheckable(True)\n",
    "        self.button.released.connect(self.button_was_released) # modify\n",
    "        self.button.setChecked(self.button_is_checked)\n",
    "        self.setCentralWidget(self.button)\n",
    "\n",
    "    def button_was_released(self):# modeify, Hint: can't accept checked signal\n",
    "        \"\"\"\n",
    "        This function update the self.button_is_checked\n",
    "        \"\"\"\n",
    "        self.button_is_checked = self.button.isChecked()\n",
    "        print(self.button_is_checked)\n",
    "        \n",
    "app = QApplication(sys.argv)\n",
    "window = MainWindow()\n",
    "window.show()\n",
    "app.exec_()"
   ]
  },
  {
   "cell_type": "markdown",
   "id": "4f8edda0-5d60-4137-8858-143ed5d948a6",
   "metadata": {},
   "source": [
    "## .setText()"
   ]
  },
  {
   "cell_type": "code",
   "execution_count": 1,
   "id": "7edd7259-d3ed-42b1-8b93-6489b0bbe80f",
   "metadata": {},
   "outputs": [
    {
     "data": {
      "text/plain": [
       "0"
      ]
     },
     "execution_count": 1,
     "metadata": {},
     "output_type": "execute_result"
    }
   ],
   "source": [
    "from PyQt5.QtWidgets import QApplication, QMainWindow, QPushButton\n",
    "import sys\n",
    "\n",
    "\n",
    "class MainWindow(QMainWindow):\n",
    "    def __init__(self):\n",
    "        super().__init__()\n",
    "        self.setWindowTitle(\"My App\")\n",
    "        self.button = QPushButton(\"Press Me!\")\n",
    "        self.button.clicked.connect(self.the_button_was_clicked)\n",
    "        # Set the central widget of the Window.\n",
    "        self.setCentralWidget(self.button)\n",
    "        \n",
    "    def the_button_was_clicked(self):\n",
    "        \"\"\"\n",
    "        change the text of button \n",
    "        \"\"\"\n",
    "        self.button.setText(\"You already clicked me.\")\n",
    "        self.button.setEnabled(False)\n",
    "        # Also change the window title.\n",
    "        self.setWindowTitle(\"My Oneshot App\")\n",
    "\n",
    "app = QApplication(sys.argv)\n",
    "window = MainWindow()\n",
    "window.show()\n",
    "app.exec()"
   ]
  },
  {
   "cell_type": "markdown",
   "id": "f451111d-1535-41ff-bd31-8932338cd312",
   "metadata": {},
   "source": [
    ".setText -> chnage the text\n",
    "\n",
    ".serEnables -> enable to click off"
   ]
  },
  {
   "cell_type": "markdown",
   "id": "175e7611-8f70-4abd-a0ec-aa54df2714d6",
   "metadata": {},
   "source": [
    "we can connect the `.windowTitleChanged` signal on the `QMainWindow` to a method slot `the_window_title_changed`. This slot also receives the new window title."
   ]
  },
  {
   "cell_type": "markdown",
   "id": "abc9123c-352e-4134-807c-0ced6f1d6f11",
   "metadata": {},
   "source": [
    "## connect widgets together"
   ]
  },
  {
   "cell_type": "code",
   "execution_count": null,
   "id": "4e95a936-1fdf-4ed7-b298-270c0f482a6a",
   "metadata": {},
   "outputs": [],
   "source": [
    "from PyQt5.QtWidgets import (\n",
    "    QApplication,\n",
    "    QMainWindow,\n",
    "    QLabel,\n",
    "    QLineEdit,\n",
    "    QVBoxLayout,\n",
    "    QWidget\n",
    ")\n",
    "import sys\n",
    "\n",
    "\n",
    "class MainWindow(QMainWindow):\n",
    "    def __init__(self):\n",
    "        super().__init__()\n",
    "        self.setWindowTitle(\"My App\")\n",
    "        self.label = QLabel()\n",
    "        self.input = QLineEdit()\n",
    "        self.input.textChanged.connect(self.label.setText)\n",
    "        layout = QVBoxLayout()\n",
    "        layout.addWidget(self.input)\n",
    "        layout.addWidget(self.label)\n",
    "        container = QWidget()\n",
    "        container.setLayout(layout)\n",
    "        # Set the central widget of the Window.\n",
    "        self.setCentralWidget(container)\n",
    "\n",
    "app = QApplication(sys.argv)\n",
    "window = MainWindow()\n",
    "window.show()\n",
    "app.exec()"
   ]
  },
  {
   "cell_type": "markdown",
   "id": "94e76d12-f715-487b-bf3e-a3955d8e03ca",
   "metadata": {},
   "source": [
    "## we can set align and font for text in QLabel object"
   ]
  },
  {
   "cell_type": "code",
   "execution_count": 1,
   "id": "0deaa70a-78cf-4c46-bdcc-00366470ef4f",
   "metadata": {},
   "outputs": [
    {
     "data": {
      "text/plain": [
       "0"
      ]
     },
     "execution_count": 1,
     "metadata": {},
     "output_type": "execute_result"
    }
   ],
   "source": [
    "import sys\n",
    "from PyQt5.QtCore import Qt\n",
    "from PyQt5.QtWidgets import QApplication, QLabel, QMainWindow\n",
    "\n",
    "\n",
    "class MainWindow(QMainWindow):\n",
    "    def __init__(self):\n",
    "        super().__init__()\n",
    "        self.setWindowTitle(\"My App\")\n",
    "        widget = QLabel(\"Hello\")\n",
    "        font = widget.font()\n",
    "        font.setPointSize(30)\n",
    "        widget.setFont(font)\n",
    "        widget.setAlignment(Qt.AlignmentFlag.AlignHCenter | Qt.AlignmentFlag.AlignVCenter)\n",
    "        self.setCentralWidget(widget)\n",
    "\n",
    "app = QApplication(sys.argv)\n",
    "window = MainWindow()\n",
    "window.show()\n",
    "app.exec()"
   ]
  },
  {
   "cell_type": "markdown",
   "id": "e4be2876-0902-4909-878c-6b476b24eef3",
   "metadata": {},
   "source": [
    "you can also use `QLabel` to display an **image** using the `.setPixmap()` method. This accepts an pixmap (a pixel array), which you can create by passing an image filename to QPixmap."
   ]
  },
  {
   "cell_type": "markdown",
   "id": "72c007f3-5b7e-4212-8bec-9be158983931",
   "metadata": {},
   "source": [
    "By default the image scales while maintaining its aspect ratio. If you want it to stretch and scale to fit the window completely you can set `.setScaledContents(True)`on the QLabel."
   ]
  },
  {
   "cell_type": "markdown",
   "id": "0229a791-8562-4af9-849e-92bddb6990a5",
   "metadata": {},
   "source": [
    "### QcheckBox"
   ]
  },
  {
   "cell_type": "code",
   "execution_count": 1,
   "id": "4b5110dd-a130-4f88-9311-21096045c1ea",
   "metadata": {},
   "outputs": [
    {
     "name": "stdout",
     "output_type": "stream",
     "text": [
      "True\n",
      "2\n",
      "False\n",
      "0\n",
      "False\n",
      "1\n",
      "True\n",
      "2\n"
     ]
    },
    {
     "data": {
      "text/plain": [
       "0"
      ]
     },
     "execution_count": 1,
     "metadata": {},
     "output_type": "execute_result"
    }
   ],
   "source": [
    "import sys\n",
    "\n",
    "from PyQt5.QtWidgets import QApplication, QMainWindow, QCheckBox\n",
    "from PyQt5.QtCore import Qt, QSize\n",
    "\n",
    "class MainWindow(QMainWindow):\n",
    "    def __init__(self):\n",
    "        super().__init__()\n",
    "        \n",
    "        self.setWindowTitle(\"My App\")\n",
    "        self.setMinimumSize(QSize(300, 100))\n",
    "        widget = QCheckBox('This is a checkbox')\n",
    "        widget.setCheckState(Qt.CheckState.PartiallyChecked) # Qt.CheckedState.Checked or Qt.CheckedState.Unchecked \n",
    "        widget.stateChanged.connect(self.show_state)\n",
    "        self.setCentralWidget(widget)\n",
    "        \n",
    "    def show_state(self, s):\n",
    "        print(Qt.CheckState(s) == Qt.CheckState.Checked)\n",
    "        print(s)\n",
    "        \n",
    "app = QApplication(sys.argv)\n",
    "window = MainWindow()\n",
    "window.show()\n",
    "\n",
    "app.exec()"
   ]
  },
  {
   "cell_type": "code",
   "execution_count": null,
   "id": "c4961952-1dd8-4d4c-947e-86b4bdb7f072",
   "metadata": {},
   "outputs": [],
   "source": [
    "import sys\n",
    "from PyQt5.QtCore import Qt\n",
    "from PyQt5.QtWidgets import QApplication, QComboBox, QMainWindow\n",
    "class MainWindow(QMainWindow):\n",
    "    def __init__(self):\n",
    "        super().__init__()\n",
    "        self.setWindowTitle(\"My App\")\n",
    "        widget = QComboBox()\n",
    "        widget.addItems([\"One\", \"Two\", \"Three\"])\n",
    "        widget.currentIndexChanged.connect(self.index_changed)\n",
    "        widget.currentTextChanged.connect(self.text_changed)\n",
    "        widget.setEditable(True) # this line allow user add value in combobox that not exist already. \n",
    "        self.setCentralWidget(widget)\n",
    "    def index_changed(self, i): # i is an int\n",
    "        print(i)\n",
    "    def text_changed(self, s): # s is a str\n",
    "        print(s)\n",
    "\n",
    "app = QApplication(sys.argv)\n",
    "window = MainWindow()\n",
    "window.show()\n",
    "app.exec()"
   ]
  },
  {
   "cell_type": "markdown",
   "id": "d713d6f4-e5bd-4199-aa17-559cf9feb38a",
   "metadata": {},
   "source": [
    "## QListWidget"
   ]
  },
  {
   "cell_type": "markdown",
   "id": "f247485c-b1f1-4eaf-8de2-27405a02e3d5",
   "metadata": {},
   "source": [
    "Next up is `QListWidget`. This widget is similar to `QComboBox`, except options are\n",
    "presented as a scrollable list of items. It also supports selection of multiple items\n",
    "at once. A `QListWidget` offers an `currentItemChanged` signal which sends the\n",
    "`QListItem` (the element of the list widget), and a `currentTextChanged` signal which\n",
    "sends the text of the current item."
   ]
  },
  {
   "cell_type": "markdown",
   "id": "5fd20cbb-67bb-4c36-aa08-92d2855d2804",
   "metadata": {},
   "source": [
    "## QLineEdit"
   ]
  },
  {
   "cell_type": "markdown",
   "id": "be894c0d-0974-403d-a3db-26e26d88048e",
   "metadata": {},
   "source": [
    "The QLineEdit widget is a simple single-line text editing box, into which users can\n",
    "type input. These are used for form fields, or settings where there is no restricted\n",
    "list of valid inputs"
   ]
  },
  {
   "cell_type": "code",
   "execution_count": 1,
   "id": "3c578c30-51a4-4264-83c4-e529bb83f4fb",
   "metadata": {},
   "outputs": [
    {
     "name": "stdout",
     "output_type": "stream",
     "text": [
      "text edited\n",
      "s\n",
      "text chnged ...\n",
      "s\n",
      "text edited\n",
      "sa\n",
      "text chnged ...\n",
      "sa\n",
      "text edited\n",
      "sas\n",
      "text chnged ...\n",
      "sas\n",
      "text edited\n",
      "sasa\n",
      "text chnged ...\n",
      "sasa\n",
      "text edited\n",
      "sas\n",
      "text chnged ...\n",
      "sas\n",
      "text edited\n",
      "sa\n",
      "text chnged ...\n",
      "sa\n",
      "text edited\n",
      "s\n",
      "text chnged ...\n",
      "s\n",
      "text edited\n",
      "\n",
      "text chnged ...\n",
      "\n",
      "Retrun key pressed\n",
      "text chnged ...\n",
      "BOOM!\n",
      "Selection changed\n",
      "!\n",
      "text edited\n",
      "BOOM\n",
      "text chnged ...\n",
      "BOOM\n",
      "Selection changed\n",
      "\n",
      "Selection changed\n",
      "BOOM\n",
      "text edited\n",
      "\n",
      "text chnged ...\n",
      "\n",
      "Selection changed\n",
      "\n",
      "text edited\n",
      "d\n",
      "text chnged ...\n",
      "d\n",
      "text edited\n",
      "dl\n",
      "text chnged ...\n",
      "dl\n",
      "text edited\n",
      "dls\n",
      "text chnged ...\n",
      "dls\n",
      "text edited\n",
      "dlsd\n",
      "text chnged ...\n",
      "dlsd\n",
      "text edited\n",
      "dlsda\n",
      "text chnged ...\n",
      "dlsda\n",
      "text edited\n",
      "dlsdad\n",
      "text chnged ...\n",
      "dlsdad\n",
      "text edited\n",
      "dlsdada\n",
      "text chnged ...\n",
      "dlsdada\n",
      "text edited\n",
      "dlsdadas\n",
      "text chnged ...\n",
      "dlsdadas\n",
      "text edited\n",
      "dlsdadasd\n",
      "text chnged ...\n",
      "dlsdadasd\n",
      "Retrun key pressed\n",
      "text chnged ...\n",
      "BOOM!\n",
      "text edited\n",
      "BOOM!d\n",
      "text chnged ...\n",
      "BOOM!d\n",
      "text edited\n",
      "BOOM!ds\n",
      "text chnged ...\n",
      "BOOM!ds\n",
      "text edited\n",
      "BOOM!dsa\n",
      "text chnged ...\n",
      "BOOM!dsa\n",
      "text edited\n",
      "BOOM!dsad\n",
      "text chnged ...\n",
      "BOOM!dsad\n",
      "Selection changed\n",
      "dsad\n",
      "text edited\n",
      "BOOM!\n",
      "text chnged ...\n",
      "BOOM!\n",
      "Selection changed\n",
      "\n",
      "Selection changed\n",
      "!\n",
      "text edited\n",
      "BOOM\n",
      "text chnged ...\n",
      "BOOM\n",
      "Selection changed\n",
      "\n",
      "Selection changed\n",
      "BOOM\n",
      "text edited\n",
      "\n",
      "text chnged ...\n",
      "\n",
      "Selection changed\n",
      "\n"
     ]
    },
    {
     "data": {
      "text/plain": [
       "0"
      ]
     },
     "execution_count": 1,
     "metadata": {},
     "output_type": "execute_result"
    }
   ],
   "source": [
    "import sys\n",
    "\n",
    "from PyQt5.QtCore import Qt\n",
    "from PyQt5.QtWidgets import QApplication, QLineEdit, QMainWindow\n",
    "\n",
    "class MainWindow(QMainWindow):\n",
    "    def __init__(self):\n",
    "        super().__init__()\n",
    "        self.setWindowTitle(\"My App\")\n",
    "        widget = QLineEdit()\n",
    "        widget.setMaxLength(10)\n",
    "        widget.setPlaceholderText(\"Enter your text . . . \")\n",
    "        # widget.setReadOnly(True) # uncomment this to make readonly\n",
    "        widget.returnPressed.connect(self.return_pressed)\n",
    "        widget.selectionChanged.connect(self.selection_changed)\n",
    "        widget.textChanged.connect(self.text_changed)\n",
    "        widget.textEdited.connect(self.text_edited)\n",
    "        self.setCentralWidget(widget)\n",
    "\n",
    "    def return_pressed(self):\n",
    "        print(\"Retrun key pressed\")\n",
    "        self.centralWidget().setText('BOOM!')\n",
    "\n",
    "    def selection_changed(self):\n",
    "        print(\"Selection changed\")\n",
    "        print(self.centralWidget().selectedText())\n",
    "\n",
    "    def text_changed(self, s):\n",
    "        print(\"text chnged ...\")\n",
    "        print(s)\n",
    "\n",
    "    def text_edited(self, s):\n",
    "        print(\"text edited\")\n",
    "        print(s)\n",
    "\n",
    "app = QApplication(sys.argv)\n",
    "window = MainWindow()\n",
    "window.show()\n",
    "app.exec_()"
   ]
  },
  {
   "cell_type": "markdown",
   "id": "e71de8e4-26a7-4274-bb58-0c38356fb359",
   "metadata": {},
   "source": [
    "Additionally, it is possible to perform input validation using an input mask to define which characters are supported and where. This can be applied to the field as follows: `widget.setInputMask('000.000.000.000;_')`\n",
    "The above would allow a series of 3-digit numbers separated with periods, and could therefore be used to validate IPv4 addresses."
   ]
  },
  {
   "cell_type": "markdown",
   "id": "a1a717f6-c3dc-4583-989e-87856f72ff63",
   "metadata": {},
   "source": [
    "## QSpinBox QDoubleSpinBox"
   ]
  },
  {
   "cell_type": "code",
   "execution_count": null,
   "id": "a17d8446-324a-49e0-976e-4f22f32a9e60",
   "metadata": {},
   "outputs": [
    {
     "name": "stdout",
     "output_type": "stream",
     "text": [
      "$3c\n",
      "3\n",
      "$0c\n",
      "0\n",
      "$-3c\n",
      "-3\n",
      "$-6c\n",
      "-6\n",
      "$-9c\n",
      "-9\n",
      "$-10c\n",
      "-10\n",
      "$-7c\n",
      "-7\n",
      "$-4c\n",
      "-4\n",
      "$-1c\n",
      "-1\n",
      "$2c\n",
      "2\n",
      "$3c\n",
      "3\n"
     ]
    }
   ],
   "source": [
    "import sys\n",
    "\n",
    "\n",
    "from PyQt5.QtCore import Qt\n",
    "from PyQt5.QtWidgets import QApplication, QMainWindow, QSpinBox\n",
    "\n",
    "class MainWindow(QMainWindow):\n",
    "    def __init__(self):\n",
    "        super().__init__()\n",
    "        self.setWindowTitle(\"My App\")\n",
    "        widget = QSpinBox()\n",
    "        # Or: widget = QDoubleSpinBox()\n",
    "        widget.setMinimum(-10)\n",
    "        widget.setMaximum(3)\n",
    "        # Or: widget.setRange(-10,3)\n",
    "        widget.setPrefix(\"$\")\n",
    "        widget.setSuffix(\"c\")\n",
    "        widget.setSingleStep(3) # Or e.g. 0.5 for QDoubleSpinBox\n",
    "        widget.valueChanged.connect(self.value_changed)\n",
    "        widget.textChanged.connect(self.value_changed_str)\n",
    "        self.setCentralWidget(widget)\n",
    "        \n",
    "    def value_changed(self, i):\n",
    "        print(i)\n",
    "        \n",
    "    def value_changed_str(self, s):\n",
    "        print(s)\n",
    "        \n",
    "app = QApplication(sys.argv)\n",
    "window = MainWindow()\n",
    "window.show()\n",
    "app.exec()"
   ]
  },
  {
   "cell_type": "markdown",
   "id": "cfc4544c-550e-451f-bef1-4363a0734d8d",
   "metadata": {},
   "source": [
    "## QSlider"
   ]
  },
  {
   "cell_type": "code",
   "execution_count": 1,
   "id": "aba25adc-1a47-46e2-85b4-cce980dd6dbd",
   "metadata": {},
   "outputs": [
    {
     "data": {
      "text/plain": [
       "0"
      ]
     },
     "execution_count": 1,
     "metadata": {},
     "output_type": "execute_result"
    }
   ],
   "source": [
    "import sys\n",
    "\n",
    "from PyQt5.QtCore import Qt\n",
    "from PyQt5.QtWidgets import QApplication, QMainWindow, QSlider\n",
    "\n",
    "\n",
    "class MainWindow(QMainWindow):\n",
    "    def __init__(self):\n",
    "        super().__init__()\n",
    "        self.setWindowTitle(\"My App\")\n",
    "        widget = QSlider()\n",
    "        widget.setMinimum(-10)\n",
    "        widget.setMaximum(3)\n",
    "        # Or: widget.setRange(-10,3)\n",
    "        widget.setSingleStep(3)\n",
    "        widget.valueChanged.connect(self.value_changed)\n",
    "        widget.sliderMoved.connect(self.slider_position)\n",
    "        widget.sliderPressed.connect(self.slider_pressed)\n",
    "        widget.sliderReleased.connect(self.slider_released)\n",
    "        self.setCentralWidget(widget)\n",
    "\n",
    "    def value_changed(self, i):\n",
    "        print(i)\n",
    " \n",
    "    def slider_position(self, p):\n",
    "        print(\"position\", p)\n",
    "        \n",
    "    def slider_pressed(self):\n",
    "        print(\"Pressed!\")\n",
    "        \n",
    "    def slider_released(self):\n",
    "        print(\"Released\")\n",
    "        \n",
    "app = QApplication(sys.argv)\n",
    "window = MainWindow()\n",
    "window.show()\n",
    "app.exec()"
   ]
  },
  {
   "cell_type": "markdown",
   "id": "9f409f3a-ff41-4cca-b393-be113b16770a",
   "metadata": {},
   "source": [
    "You can also construct a slider with a vertical or horizontal orientation by\n",
    "passing the orientation in as you create it. The orientation flags are defined in the\n",
    "Qt.namespace. For example :"
   ]
  },
  {
   "cell_type": "code",
   "execution_count": 2,
   "id": "51d3cdab-a33f-4cad-a989-2ab6e628aa41",
   "metadata": {},
   "outputs": [],
   "source": [
    "# widget.QSlider(Qt.Orientiation.Vertical)\n",
    "# widget.QSlider(Qt.Orientiation.Horizontal)"
   ]
  },
  {
   "cell_type": "markdown",
   "id": "f1827d99-d44b-4b6c-bedc-27a50ca0f96e",
   "metadata": {},
   "source": [
    "## QDail"
   ]
  },
  {
   "cell_type": "markdown",
   "id": "8cf96eb0-efb7-4c3d-bcf2-54d3268e03de",
   "metadata": {},
   "source": [
    "# Layouts"
   ]
  },
  {
   "cell_type": "markdown",
   "id": "7e008f04-5ff5-4eb1-98a2-64b7526c488d",
   "metadata": {},
   "source": [
    "In the PyQt is 4 basic layouts avialable:\n",
    "|**Layout** | **Behavior**|\n",
    "|------------|---------------|\n",
    "|QHBoxLayout | Linear horizontal layout|\n",
    "|QVBoxLayout | Linear vertical layout|\n",
    "|QGridLayout | In indexable grid|\n",
    "|QStackedLaout | Stacked in front of one another|\n",
    "    "
   ]
  },
  {
   "cell_type": "code",
   "execution_count": null,
   "id": "5af41d90-6471-4579-bd2d-8aa53ce1fe27",
   "metadata": {},
   "outputs": [],
   "source": [
    "import sys\n",
    "\n",
    "from PyQt5.QtCore import Qt\n",
    "from PyQt5.QtGui import QColor, QPalette\n",
    "from PyQt5.QtWidgets import QWidget, QApplication, QMainWindow\n",
    "\n",
    "\n",
    "class Color(QWidget):\n",
    "    def __init__(self, color):\n",
    "        super().__init__()\n",
    "        self.setAutoFillBackground(True)\n",
    "        palette = self.palette()\n",
    "        palette.setColor(QPalette.ColorRole.Window, QColor(color))\n",
    "        self.setPalette(palette)\n",
    "\n",
    "class MainWindow(QMainWindow):\n",
    "    def __init__(self):\n",
    "        super().__init__()\n",
    "        self.setWindowTitle(\"My App\")\n",
    "        widget = Color(\"red\")\n",
    "        self.setCentralWidget(widget)\n",
    "\n",
    "app = QApplication(sys.argv)\n",
    "window = MainWindow()\n",
    "window.show()\n",
    "app.exec()"
   ]
  },
  {
   "cell_type": "markdown",
   "id": "04a33f2e-2d5e-4779-bca9-a0585482f8ec",
   "metadata": {},
   "source": [
    "Lets add our widget to a layout. Note that in order to add a layout to the\n",
    "QMainWindow we need to apply it to a dummy QWidget. This allows us to then use\n",
    ".setCentralWidget to apply the widget (and the layout) to the window. Our\n",
    "colored widgets will arrange themselves in the layout, contained within the\n",
    "QWidget in the window"
   ]
  },
  {
   "cell_type": "code",
   "execution_count": 1,
   "id": "0e2e7efb-d8d1-4be3-aec5-98319a6c4f14",
   "metadata": {},
   "outputs": [
    {
     "data": {
      "text/plain": [
       "0"
      ]
     },
     "execution_count": 1,
     "metadata": {},
     "output_type": "execute_result"
    }
   ],
   "source": [
    "import sys\n",
    "\n",
    "from PyQt5.QtCore import Qt\n",
    "from PyQt5.QtGui import QColor, QPalette\n",
    "from PyQt5.QtWidgets import (\n",
    "    QApplication,\n",
    "    QMainWindow,\n",
    "    QVBoxLayout,\n",
    "    QWidget,\n",
    ")\n",
    "\n",
    "\n",
    "class Color(QWidget):\n",
    "    def __init__(self, color):\n",
    "        super().__init__()\n",
    "        self.setAutoFillBackground(True)\n",
    "        palette = self.palette()\n",
    "        palette.setColor(QPalette.ColorRole.Window, QColor(color))\n",
    "        self.setPalette(palette)\n",
    "\n",
    "class MainWindow(QMainWindow):\n",
    "    def __init__(self):\n",
    "        super().__init__()\n",
    "        self.setWindowTitle(\"My App\")\n",
    "        layout = QVBoxLayout()\n",
    "        layout.addWidget(Color(\"red\"))\n",
    "        layout.addWidget(Color(\"green\"))\n",
    "        layout.addWidget(Color(\"blue\"))\n",
    "        widget = QWidget()\n",
    "        widget.setLayout(layout)\n",
    "        self.setCentralWidget(widget)\n",
    "\n",
    "app = QApplication(sys.argv)\n",
    "window = MainWindow()\n",
    "window.show()\n",
    "app.exec()"
   ]
  },
  {
   "cell_type": "markdown",
   "id": "e23d7db2-f49d-4a9e-9b63-14e480f46e2a",
   "metadata": {},
   "source": [
    "### Nesting Layouts "
   ]
  },
  {
   "cell_type": "markdown",
   "id": "21644074-8465-463b-9442-d6e888f7a931",
   "metadata": {},
   "source": [
    "For more complex layouts you can nest layouts inside one another using\n",
    ".addLayout on a layout. Below we add a QVBoxLayout into the main QHBoxLayout. If\n",
    "we add some widgets to the QVBoxLayout, they’ll be arranged vertically in the first\n",
    "slot of the parent layout."
   ]
  },
  {
   "cell_type": "code",
   "execution_count": 1,
   "id": "5af582a8-dee0-4c2a-8bdf-57cdfdb36426",
   "metadata": {},
   "outputs": [
    {
     "data": {
      "text/plain": [
       "0"
      ]
     },
     "execution_count": 1,
     "metadata": {},
     "output_type": "execute_result"
    }
   ],
   "source": [
    "import sys\n",
    "\n",
    "\n",
    "from PyQt5.QtCore import Qt\n",
    "from PyQt5.QtGui import QColor, QPalette\n",
    "from PyQt5.QtWidgets import (\n",
    "    QApplication,\n",
    "    QHBoxLayout,\n",
    "    QLabel,\n",
    "    QMainWindow,\n",
    "    QVBoxLayout,\n",
    "    QWidget,\n",
    ")\n",
    "\n",
    "\n",
    "class Color(QWidget):\n",
    "    def __init__(self, color):\n",
    "        super().__init__()\n",
    "        self.setAutoFillBackground(True)\n",
    "        palette = self.palette()\n",
    "        palette.setColor(QPalette.ColorRole.Window, QColor(color))\n",
    "        self.setPalette(palette)\n",
    "\n",
    "class MainWindow(QMainWindow):\n",
    "    def __init__(self):\n",
    "        super().__init__()\n",
    "        self.setWindowTitle(\"My App\")\n",
    "        layout1 = QHBoxLayout()\n",
    "        layout2 = QVBoxLayout()\n",
    "        layout3 = QVBoxLayout()\n",
    "        layout2.addWidget(Color(\"red\"))\n",
    "        layout2.addWidget(Color(\"yellow\"))\n",
    "        layout2.addWidget(Color(\"purple\"))\n",
    "        layout1.addLayout(layout2)\n",
    "        layout1.addWidget(Color(\"green\"))\n",
    "        layout3.addWidget(Color(\"red\"))\n",
    "        layout3.addWidget(Color(\"purple\"))\n",
    "        layout1.addLayout(layout3)\n",
    "        widget = QWidget()\n",
    "        widget.setLayout(layout1)\n",
    "        self.setCentralWidget(widget)\n",
    "\n",
    "app = QApplication(sys.argv)\n",
    "window = MainWindow()\n",
    "window.show()\n",
    "app.exec()"
   ]
  },
  {
   "cell_type": "markdown",
   "id": "5dea6162-7976-4f3d-b6fb-48733d4db8f3",
   "metadata": {},
   "source": [
    "You can set the spacing around the layout using .setContentMargins or set the\n",
    "spacing between elements using .setSpacing."
   ]
  },
  {
   "cell_type": "code",
   "execution_count": 2,
   "id": "d67597a1-a3b0-47ec-b08a-06933295f98a",
   "metadata": {},
   "outputs": [],
   "source": [
    "# layout1.setContentsMargins(0,0,0,0)\n",
    "# layout1.setSpacing(20)"
   ]
  },
  {
   "cell_type": "markdown",
   "id": "ccf53aa2-38f2-4d7b-84fe-7b798dcf03a0",
   "metadata": {},
   "source": [
    "## QGridLayout"
   ]
  },
  {
   "cell_type": "code",
   "execution_count": null,
   "id": "832ae4d9-940c-4400-a7dd-b63e884bfe1e",
   "metadata": {},
   "outputs": [],
   "source": [
    "import sys\n",
    "\n",
    "from PyQt5.QtCore import Qt\n",
    "from PyQt5.QtGui import QColor, QPalette\n",
    "from PyQt5.QtWidgets import (\n",
    "    QApplication,\n",
    "    QGridLayout,\n",
    "    QLabel,\n",
    "    QMainWindow,\n",
    "    QWidget,\n",
    ")\n",
    "\n",
    "\n",
    "class Color(QWidget):\n",
    "    def __init__(self, color):\n",
    "        super().__init__()\n",
    "        self.setAutoFillBackground(True)\n",
    "        palette = self.palette()\n",
    "        palette.setColor(QPalette.ColorRole.Window, QColor(color))\n",
    "        self.setPalette(palette)\n",
    "\n",
    "class MainWindow(QMainWindow):\n",
    "    def __init__(self):\n",
    "        super().__init__()\n",
    "        self.setWindowTitle(\"My App\")\n",
    "        layout = QGridLayout()\n",
    "        layout.addWidget(Color(\"red\"), 0, 0)\n",
    "        layout.addWidget(Color(\"green\"), 1, 0)\n",
    "        layout.addWidget(Color(\"blue\"), 1, 1)\n",
    "        layout.addWidget(Color(\"purple\"), 2, 1)\n",
    "        widget = QWidget()\n",
    "        widget.setLayout(layout)\n",
    "        self.setCentralWidget(widget)\n",
    "\n",
    "app = QApplication(sys.argv)\n",
    "window = MainWindow()\n",
    "window.show()\n",
    "app.exec()"
   ]
  },
  {
   "cell_type": "markdown",
   "id": "fcbab83e-1a7d-4649-912b-e2129e390d91",
   "metadata": {},
   "source": [
    "## QStackedLayout"
   ]
  },
  {
   "cell_type": "code",
   "execution_count": 1,
   "id": "f8426ae2-ec76-40e4-8dbb-dce657a46c97",
   "metadata": {},
   "outputs": [
    {
     "data": {
      "text/plain": [
       "0"
      ]
     },
     "execution_count": 1,
     "metadata": {},
     "output_type": "execute_result"
    }
   ],
   "source": [
    "import sys\n",
    "\n",
    "from PyQt5.QtCore import Qt\n",
    "from PyQt5.QtGui import QColor, QPalette\n",
    "from PyQt5.QtWidgets import (\n",
    "    QApplication,\n",
    "    QMainWindow,\n",
    "    QLabel,\n",
    "    QStackedLayout,\n",
    "    QWidget,\n",
    ")\n",
    "\n",
    "\n",
    "class Color(QWidget):\n",
    "    def __init__(self, color):\n",
    "        super().__init__()\n",
    "        self.setAutoFillBackground(True)\n",
    "        palette = self.palette()\n",
    "        palette.setColor(QPalette.ColorRole.Window, QColor(color))\n",
    "        self.setPalette(palette)\n",
    "        \n",
    "class MainWindow(QMainWindow):\n",
    "    def __init__(self):\n",
    "        super().__init__()\n",
    "        self.setWindowTitle(\"My App\")\n",
    "        layout = QStackedLayout()\n",
    "        layout.addWidget(Color('red'))\n",
    "        layout.addWidget(Color('green'))\n",
    "        layout.addWidget(Color('blue'))\n",
    "        layout.addWidget(Color('yellow'))\n",
    "        layout.setCurrentIndex(3)\n",
    "        widget = QWidget()\n",
    "        widget.setLayout(layout)\n",
    "        self.setCentralWidget(widget)\n",
    "        \n",
    "app = QApplication(sys.argv)\n",
    "window = MainWindow()\n",
    "window.show()\n",
    "app.exec_()"
   ]
  }
 ],
 "metadata": {
  "kernelspec": {
   "display_name": "Python 3",
   "language": "python",
   "name": "python3"
  },
  "language_info": {
   "codemirror_mode": {
    "name": "ipython",
    "version": 3
   },
   "file_extension": ".py",
   "mimetype": "text/x-python",
   "name": "python",
   "nbconvert_exporter": "python",
   "pygments_lexer": "ipython3",
   "version": "3.7.6"
  }
 },
 "nbformat": 4,
 "nbformat_minor": 5
}
